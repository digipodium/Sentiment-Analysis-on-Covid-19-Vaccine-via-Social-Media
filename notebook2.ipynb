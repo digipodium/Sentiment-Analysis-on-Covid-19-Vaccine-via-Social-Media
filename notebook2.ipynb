{
 "metadata": {
  "language_info": {
   "codemirror_mode": {
    "name": "ipython",
    "version": 3
   },
   "file_extension": ".py",
   "mimetype": "text/x-python",
   "name": "python",
   "nbconvert_exporter": "python",
   "pygments_lexer": "ipython3",
   "version": "3.7.3"
  },
  "orig_nbformat": 2,
  "kernelspec": {
   "name": "python373jvsc74a57bd02b9cd5c3ec4eb793e30b3fe22fb3034f3d8c9722bad10f4cedbbd7faa7e7f261",
   "display_name": "Python 3.7.3 64-bit ('base': conda)"
  }
 },
 "nbformat": 4,
 "nbformat_minor": 2,
 "cells": [
  {
   "cell_type": "code",
   "execution_count": 1,
   "metadata": {},
   "outputs": [],
   "source": [
    "import pandas as pd"
   ]
  },
  {
   "cell_type": "code",
   "execution_count": 2,
   "metadata": {},
   "outputs": [],
   "source": [
    "df = pd.read_csv('datasets/vaccination_all_tweets.csv')"
   ]
  },
  {
   "cell_type": "code",
   "execution_count": 3,
   "metadata": {},
   "outputs": [
    {
     "output_type": "execute_result",
     "data": {
      "text/plain": [
       "                    id             user_name              user_location  \\\n",
       "0  1340539111971516416            Rachel Roh  La Crescenta-Montrose, CA   \n",
       "1  1338158543359250433           Albert Fong          San Francisco, CA   \n",
       "2  1337858199140118533              eli🇱🇹🇪🇺👌                   Your Bed   \n",
       "3  1337855739918835717         Charles Adler     Vancouver, BC - Canada   \n",
       "4  1337854064604966912  Citizen News Channel                        NaN   \n",
       "\n",
       "                                    user_description         user_created  \\\n",
       "0  Aggregator of Asian American news; scanning di...  2009-04-08 17:52:46   \n",
       "1  Marketing dude, tech geek, heavy metal & '80s ...  2009-09-21 15:27:30   \n",
       "2                                     heil, hydra 🖐☺  2020-06-25 23:30:28   \n",
       "3  Hosting \"CharlesAdlerTonight\" Global News Radi...  2008-09-10 11:28:53   \n",
       "4  Citizen News Channel bringing you an alternati...  2020-04-23 17:58:42   \n",
       "\n",
       "   user_followers  user_friends  user_favourites  user_verified  \\\n",
       "0             405          1692             3247          False   \n",
       "1             834           666              178          False   \n",
       "2              10            88              155          False   \n",
       "3           49165          3933            21853           True   \n",
       "4             152           580             1473          False   \n",
       "\n",
       "                  date                                               text  \\\n",
       "0  2020-12-20 06:06:44  Same folks said daikon paste could treat a cyt...   \n",
       "1  2020-12-13 16:27:13  While the world has been on the wrong side of ...   \n",
       "2  2020-12-12 20:33:45  #coronavirus #SputnikV #AstraZeneca #PfizerBio...   \n",
       "3  2020-12-12 20:23:59  Facts are immutable, Senator, even when you're...   \n",
       "4  2020-12-12 20:17:19  Explain to me again why we need a vaccine @Bor...   \n",
       "\n",
       "                                            hashtags               source  \\\n",
       "0                                 ['PfizerBioNTech']  Twitter for Android   \n",
       "1                                                NaN      Twitter Web App   \n",
       "2  ['coronavirus', 'SputnikV', 'AstraZeneca', 'Pf...  Twitter for Android   \n",
       "3                                                NaN      Twitter Web App   \n",
       "4     ['whereareallthesickpeople', 'PfizerBioNTech']   Twitter for iPhone   \n",
       "\n",
       "   retweets  favorites  is_retweet  \n",
       "0         0          0       False  \n",
       "1         1          1       False  \n",
       "2         0          0       False  \n",
       "3       446       2129       False  \n",
       "4         0          0       False  "
      ],
      "text/html": "<div>\n<style scoped>\n    .dataframe tbody tr th:only-of-type {\n        vertical-align: middle;\n    }\n\n    .dataframe tbody tr th {\n        vertical-align: top;\n    }\n\n    .dataframe thead th {\n        text-align: right;\n    }\n</style>\n<table border=\"1\" class=\"dataframe\">\n  <thead>\n    <tr style=\"text-align: right;\">\n      <th></th>\n      <th>id</th>\n      <th>user_name</th>\n      <th>user_location</th>\n      <th>user_description</th>\n      <th>user_created</th>\n      <th>user_followers</th>\n      <th>user_friends</th>\n      <th>user_favourites</th>\n      <th>user_verified</th>\n      <th>date</th>\n      <th>text</th>\n      <th>hashtags</th>\n      <th>source</th>\n      <th>retweets</th>\n      <th>favorites</th>\n      <th>is_retweet</th>\n    </tr>\n  </thead>\n  <tbody>\n    <tr>\n      <th>0</th>\n      <td>1340539111971516416</td>\n      <td>Rachel Roh</td>\n      <td>La Crescenta-Montrose, CA</td>\n      <td>Aggregator of Asian American news; scanning di...</td>\n      <td>2009-04-08 17:52:46</td>\n      <td>405</td>\n      <td>1692</td>\n      <td>3247</td>\n      <td>False</td>\n      <td>2020-12-20 06:06:44</td>\n      <td>Same folks said daikon paste could treat a cyt...</td>\n      <td>['PfizerBioNTech']</td>\n      <td>Twitter for Android</td>\n      <td>0</td>\n      <td>0</td>\n      <td>False</td>\n    </tr>\n    <tr>\n      <th>1</th>\n      <td>1338158543359250433</td>\n      <td>Albert Fong</td>\n      <td>San Francisco, CA</td>\n      <td>Marketing dude, tech geek, heavy metal &amp; '80s ...</td>\n      <td>2009-09-21 15:27:30</td>\n      <td>834</td>\n      <td>666</td>\n      <td>178</td>\n      <td>False</td>\n      <td>2020-12-13 16:27:13</td>\n      <td>While the world has been on the wrong side of ...</td>\n      <td>NaN</td>\n      <td>Twitter Web App</td>\n      <td>1</td>\n      <td>1</td>\n      <td>False</td>\n    </tr>\n    <tr>\n      <th>2</th>\n      <td>1337858199140118533</td>\n      <td>eli🇱🇹🇪🇺👌</td>\n      <td>Your Bed</td>\n      <td>heil, hydra 🖐☺</td>\n      <td>2020-06-25 23:30:28</td>\n      <td>10</td>\n      <td>88</td>\n      <td>155</td>\n      <td>False</td>\n      <td>2020-12-12 20:33:45</td>\n      <td>#coronavirus #SputnikV #AstraZeneca #PfizerBio...</td>\n      <td>['coronavirus', 'SputnikV', 'AstraZeneca', 'Pf...</td>\n      <td>Twitter for Android</td>\n      <td>0</td>\n      <td>0</td>\n      <td>False</td>\n    </tr>\n    <tr>\n      <th>3</th>\n      <td>1337855739918835717</td>\n      <td>Charles Adler</td>\n      <td>Vancouver, BC - Canada</td>\n      <td>Hosting \"CharlesAdlerTonight\" Global News Radi...</td>\n      <td>2008-09-10 11:28:53</td>\n      <td>49165</td>\n      <td>3933</td>\n      <td>21853</td>\n      <td>True</td>\n      <td>2020-12-12 20:23:59</td>\n      <td>Facts are immutable, Senator, even when you're...</td>\n      <td>NaN</td>\n      <td>Twitter Web App</td>\n      <td>446</td>\n      <td>2129</td>\n      <td>False</td>\n    </tr>\n    <tr>\n      <th>4</th>\n      <td>1337854064604966912</td>\n      <td>Citizen News Channel</td>\n      <td>NaN</td>\n      <td>Citizen News Channel bringing you an alternati...</td>\n      <td>2020-04-23 17:58:42</td>\n      <td>152</td>\n      <td>580</td>\n      <td>1473</td>\n      <td>False</td>\n      <td>2020-12-12 20:17:19</td>\n      <td>Explain to me again why we need a vaccine @Bor...</td>\n      <td>['whereareallthesickpeople', 'PfizerBioNTech']</td>\n      <td>Twitter for iPhone</td>\n      <td>0</td>\n      <td>0</td>\n      <td>False</td>\n    </tr>\n  </tbody>\n</table>\n</div>"
     },
     "metadata": {},
     "execution_count": 3
    }
   ],
   "source": [
    "df.head()"
   ]
  },
  {
   "cell_type": "code",
   "execution_count": null,
   "metadata": {},
   "outputs": [],
   "source": []
  }
 ]
}